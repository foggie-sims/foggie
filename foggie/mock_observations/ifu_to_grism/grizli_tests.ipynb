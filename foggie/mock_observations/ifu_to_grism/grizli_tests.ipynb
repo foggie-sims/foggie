{
 "cells": [
  {
   "cell_type": "code",
   "execution_count": 1,
   "id": "18317495-54c9-4303-9908-2fbd2879eb45",
   "metadata": {},
   "outputs": [
    {
     "name": "stdout",
     "output_type": "stream",
     "text": [
      "`import jwst` failed so JWST processing will not work!\n"
     ]
    }
   ],
   "source": [
    "import grizli\n",
    "from grizli.pipeline import auto_script\n",
    "from grizli import utils, fitting, multifit, prep, model"
   ]
  },
  {
   "cell_type": "code",
   "execution_count": null,
   "id": "5dcc7f4f-26b4-4e7f-8721-99a7c389d734",
   "metadata": {},
   "outputs": [],
   "source": []
  },
  {
   "cell_type": "code",
   "execution_count": 2,
   "id": "85f5b8e1-eb85-43bc-8d7b-13246d24b05e",
   "metadata": {
    "scrolled": true
   },
   "outputs": [
    {
     "name": "stdout",
     "output_type": "stream",
     "text": [
      "Filename: D:/foggie_mockdata/ideal_ifu.fits\n",
      "No.    Name      Ver    Type      Cards   Dimensions   Format\n",
      "  0  PRIMARY       1 PrimaryHDU      36   (100, 100, 607)   float64   \n",
      "  1                1 ImageHDU         6   (607,)   float64   \n",
      "  2                1 ImageHDU         7   (100, 100)   float64   \n",
      "None\n",
      "Filename: grism_test_ideal.fits\n",
      "No.    Name      Ver    Type      Cards   Dimensions   Format\n",
      "  0  PRIMARY       1 PrimaryHDU      36   (673, 300)   float64   \n",
      "  1  SCI           1 ImageHDU         8   (673, 300)   float64   \n",
      "  2  ERR           1 ImageHDU         8   (673, 300)   float64   \n",
      "  3  DQ            1 ImageHDU         8   (673, 300)   float64   \n",
      "None\n",
      "From mock\n",
      "G102\n",
      "Filename: D:\\grism_passage_data\\Par061\\Raw\\jw01571372001_02201_00004_nis_rate.fits\n",
      "No.    Name      Ver    Type      Cards   Dimensions   Format\n",
      "  0  PRIMARY       1 PrimaryHDU     264   ()      \n",
      "  1  SCI           1 ImageHDU       142   (2048, 2048)   float32   \n",
      "  2  ERR           1 ImageHDU        10   (2048, 2048)   float32   \n",
      "  3  DQ            1 ImageHDU        11   (2048, 2048)   int32 (rescales to uint32)   \n",
      "  4  VAR_POISSON    1 ImageHDU         9   (2048, 2048)   float32   \n",
      "  5  VAR_RNOISE    1 ImageHDU         9   (2048, 2048)   float32   \n",
      "  6  VAR_FLAT      1 ImageHDU         9   (2048, 2048)   float32   \n",
      "  7  ASDF          1 BinTableHDU     11   1R x 1C   [24885B]   \n",
      "  8  TIME          1 ImageHDU        12   ()      \n",
      "None\n",
      "From Observed\n",
      "343.577\n",
      "NIRISS\n",
      "GR150C\n"
     ]
    },
    {
     "name": "stderr",
     "output_type": "stream",
     "text": [
      "<>:17: SyntaxWarning: invalid escape sequence '\\g'\n",
      "<>:17: SyntaxWarning: invalid escape sequence '\\g'\n",
      "C:\\Users\\ctrap\\AppData\\Local\\Temp\\ipykernel_19064\\3797546777.py:17: SyntaxWarning: invalid escape sequence '\\g'\n",
      "  obsdir = 'D:\\grism_passage_data\\Par061\\Raw\\jw01571372001_02201_00004_nis_rate.fits'\n"
     ]
    }
   ],
   "source": [
    "from astropy.io import fits\n",
    "import numpy as np\n",
    "ifudir = 'D:/foggie_mockdata/ideal_ifu.fits'\n",
    "data = fits.open(ifudir)\n",
    "print(data.info())\n",
    "\n",
    "grismdir = 'grism_test_ideal.fits'\n",
    "data1 = fits.open(grismdir)\n",
    "print(data1.info())\n",
    "\n",
    "hdr = data1[0].header\n",
    "print(\"From mock\")\n",
    "print(hdr['FILTER'])\n",
    "\n",
    "\n",
    "\n",
    "obsdir = 'D:\\grism_passage_data\\Par061\\Raw\\jw01571372001_02201_00004_nis_rate.fits'\n",
    "data2 = fits.open(obsdir)\n",
    "obshdr = data2[0].header\n",
    "print(data2.info())\n",
    "print(\"From Observed\")\n",
    "print(obshdr['EXPTIME'])\n",
    "print(obshdr['INSTRUME'])\n",
    "print(obshdr['FILTER'])\n",
    "#print(obshdr['DFILTER'])\n",
    "#print(obshdr)\n",
    "#for entry in obshdr:\n",
    "#    print(entry,\":\",obshdr[entry])\n"
   ]
  },
  {
   "cell_type": "code",
   "execution_count": 3,
   "id": "fe4f389e-3b43-4279-b7ab-d38763cd6072",
   "metadata": {},
   "outputs": [
    {
     "name": "stdout",
     "output_type": "stream",
     "text": [
      "\n",
      "\n"
     ]
    }
   ],
   "source": [
    "filename = \"grism_test_mock.fits\"\n",
    "flt = model.GrismFLT(grism_file = filename,pad=(0,0))"
   ]
  },
  {
   "cell_type": "code",
   "execution_count": 4,
   "id": "9d6c438a-f15f-4c7e-9ea3-18addb67dd95",
   "metadata": {},
   "outputs": [
    {
     "data": {
      "text/plain": [
       "<grizli.model.GrismFLT at 0x2230f80e780>"
      ]
     },
     "execution_count": 4,
     "metadata": {},
     "output_type": "execute_result"
    }
   ],
   "source": [
    "flt"
   ]
  },
  {
   "cell_type": "code",
   "execution_count": null,
   "id": "2aa5ec70-3309-468e-b516-2d8a04e74622",
   "metadata": {},
   "outputs": [],
   "source": []
  }
 ],
 "metadata": {
  "kernelspec": {
   "display_name": "Python 3 (ipykernel)",
   "language": "python",
   "name": "python3"
  },
  "language_info": {
   "codemirror_mode": {
    "name": "ipython",
    "version": 3
   },
   "file_extension": ".py",
   "mimetype": "text/x-python",
   "name": "python",
   "nbconvert_exporter": "python",
   "pygments_lexer": "ipython3",
   "version": "3.12.7"
  }
 },
 "nbformat": 4,
 "nbformat_minor": 5
}
