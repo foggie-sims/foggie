{
 "cells": [
  {
   "cell_type": "markdown",
   "id": "e74d9e2f-d641-4e99-b3f7-181ce85c467c",
   "metadata": {},
   "source": [
    "### This notebook tests the various ways of using foggie_load "
   ]
  },
  {
   "cell_type": "code",
   "execution_count": 1,
   "id": "9b49afed-4159-4907-bd24-5e4837a9f675",
   "metadata": {},
   "outputs": [],
   "source": [
    "import yt \n",
    "from foggie.utils.foggie_load import * "
   ]
  },
  {
   "cell_type": "markdown",
   "id": "b79d2785-66ae-41bf-83f4-40dbc1ffe823",
   "metadata": {},
   "source": [
    "Let's define some filenames we will use to provide input to foggie_load "
   ]
  },
  {
   "cell_type": "code",
   "execution_count": 2,
   "id": "db3fe710-9e80-450b-a44e-4d4a1aeaa9b5",
   "metadata": {},
   "outputs": [],
   "source": [
    "snap_name = 'RD0042/RD0042' \n",
    "trackname = '/Users/tumlinson/Dropbox/FOGGIE/foggie/foggie/halo_tracks/005016/nref11n_selfshield_15/halo_track_200kpc_nref10'\n",
    "halo_c_v_name = '/Users/tumlinson/Dropbox/FOGGIE/foggie/foggie/halo_infos/005016/nref11c_nref9f/halo_c_v'"
   ]
  },
  {
   "cell_type": "markdown",
   "id": "554f5d17-8433-4571-a4fe-87a1cf37ddd6",
   "metadata": {},
   "source": [
    "Test foggie_load for when we do not give any center or track. "
   ]
  },
  {
   "cell_type": "code",
   "execution_count": 3,
   "id": "e8dd5161-b3c6-4909-8cf2-7be7dd9774d7",
   "metadata": {},
   "outputs": [
    {
     "name": "stderr",
     "output_type": "stream",
     "text": [
      "yt : [INFO     ] 2025-08-22 13:06:39,846 Parameters: current_time              = 639.44480357087\n",
      "yt : [INFO     ] 2025-08-22 13:06:39,847 Parameters: domain_dimensions         = [256 256 256]\n",
      "yt : [INFO     ] 2025-08-22 13:06:39,847 Parameters: domain_left_edge          = [0. 0. 0.]\n",
      "yt : [INFO     ] 2025-08-22 13:06:39,847 Parameters: domain_right_edge         = [1. 1. 1.]\n",
      "yt : [INFO     ] 2025-08-22 13:06:39,847 Parameters: cosmological_simulation   = 1\n",
      "yt : [INFO     ] 2025-08-22 13:06:39,848 Parameters: current_redshift          = 0\n",
      "yt : [INFO     ] 2025-08-22 13:06:39,848 Parameters: omega_lambda              = 0.715\n",
      "yt : [INFO     ] 2025-08-22 13:06:39,848 Parameters: omega_matter              = 0.285\n",
      "yt : [INFO     ] 2025-08-22 13:06:39,848 Parameters: omega_radiation           = 0\n",
      "yt : [INFO     ] 2025-08-22 13:06:39,848 Parameters: hubble_constant           = 0.695\n"
     ]
    },
    {
     "name": "stdout",
     "output_type": "stream",
     "text": [
      "Opening snapshot RD0042/RD0042\n"
     ]
    },
    {
     "name": "stderr",
     "output_type": "stream",
     "text": [
      "Parsing Hierarchy : 100%|██████████████████████████████████████████████████████████████████████████████████████████████████████████████████████████████████████████████████████████████████████████████| 9304/9304 [00:00<00:00, 36046.81it/s]\n",
      "yt : [INFO     ] 2025-08-22 13:06:40,251 Gathering a field list (this may take a moment.)\n",
      "yt : [WARNING  ] 2025-08-22 13:06:40,469 Field ('index', 'cell_id') already exists. To override use `force_override=True`.\n"
     ]
    },
    {
     "name": "stdout",
     "output_type": "stream",
     "text": [
      "made it to here!\n",
      "filtering young_stars particles...\n",
      "filtering young_stars3 particles...\n",
      "filtering young_stars8 particles...\n",
      "filtering old_stars particles...\n",
      "filtering stars particles...\n",
      "filtering dm particles...\n"
     ]
    }
   ],
   "source": [
    "ds, refine_box = foggie_load(snap_name) "
   ]
  },
  {
   "cell_type": "code",
   "execution_count": 4,
   "id": "53a49bd6-94ab-4cae-a3cf-e346ca25addd",
   "metadata": {},
   "outputs": [
    {
     "data": {
      "text/plain": [
       "([nan, nan, nan], [nan, nan, nan])"
      ]
     },
     "execution_count": 4,
     "metadata": {},
     "output_type": "execute_result"
    }
   ],
   "source": [
    "ds.halo_center_code, ds.halo_velocity_kms"
   ]
  },
  {
   "cell_type": "code",
   "execution_count": null,
   "id": "662fd2b7-8028-45df-9373-dc3010124e94",
   "metadata": {},
   "outputs": [],
   "source": []
  },
  {
   "cell_type": "code",
   "execution_count": null,
   "id": "2ce8b775-b43d-4ed6-9f22-97639e7ca66b",
   "metadata": {},
   "outputs": [],
   "source": []
  },
  {
   "cell_type": "markdown",
   "id": "641bed6e-f8ea-4326-9d98-d2cd20e9a6f7",
   "metadata": {},
   "source": [
    "## "
   ]
  },
  {
   "cell_type": "markdown",
   "id": "15c0e461-74cf-49ea-a088-77929a799cf1",
   "metadata": {},
   "source": [
    "Now test foggie_load when we give it *only* a track file and nothing else. "
   ]
  },
  {
   "cell_type": "code",
   "execution_count": 5,
   "id": "bde13831-6025-474d-b06c-3c69d7504fe2",
   "metadata": {},
   "outputs": [
    {
     "name": "stderr",
     "output_type": "stream",
     "text": [
      "yt : [INFO     ] 2025-08-22 13:07:09,932 Parameters: current_time              = 639.44480357087\n",
      "yt : [INFO     ] 2025-08-22 13:07:09,933 Parameters: domain_dimensions         = [256 256 256]\n",
      "yt : [INFO     ] 2025-08-22 13:07:09,933 Parameters: domain_left_edge          = [0. 0. 0.]\n",
      "yt : [INFO     ] 2025-08-22 13:07:09,933 Parameters: domain_right_edge         = [1. 1. 1.]\n",
      "yt : [INFO     ] 2025-08-22 13:07:09,933 Parameters: cosmological_simulation   = 1\n",
      "yt : [INFO     ] 2025-08-22 13:07:09,934 Parameters: current_redshift          = 0\n",
      "yt : [INFO     ] 2025-08-22 13:07:09,934 Parameters: omega_lambda              = 0.715\n",
      "yt : [INFO     ] 2025-08-22 13:07:09,934 Parameters: omega_matter              = 0.285\n",
      "yt : [INFO     ] 2025-08-22 13:07:09,934 Parameters: omega_radiation           = 0\n",
      "yt : [INFO     ] 2025-08-22 13:07:09,934 Parameters: hubble_constant           = 0.695\n"
     ]
    },
    {
     "name": "stdout",
     "output_type": "stream",
     "text": [
      "Opening snapshot RD0042/RD0042\n"
     ]
    },
    {
     "name": "stderr",
     "output_type": "stream",
     "text": [
      "Parsing Hierarchy : 100%|██████████████████████████████████████████████████████████████████████████████████████████████████████████████████████████████████████████████████████████████████████████████| 9304/9304 [00:00<00:00, 42356.73it/s]\n",
      "yt : [INFO     ] 2025-08-22 13:07:10,316 Gathering a field list (this may take a moment.)\n"
     ]
    },
    {
     "name": "stdout",
     "output_type": "stream",
     "text": [
      "get_refine_box: using this location: col1   col2     col3     col4    col5     col6     col7  col8\n",
      "---- -------- -------- ------- -------- -------- ------- ----\n",
      " 0.0 0.540194 0.449845 0.51256 0.542194 0.451845 0.51456   10\n",
      "Will look for halo_c_v_file:  none\n",
      "No halo_c_v file found, calculating halo center from track\n",
      "get_halo_center: code_length code_velocity\n",
      "get_halo_center: obtained the spherical region\n",
      "get_halo_center: extracted the DM density\n",
      "get_halo_center: we have obtained the preliminary center\n",
      "got the velocities\n",
      "get_halo_center: located the main halo at: [0.5409364700317383, 0.4510469436645507, 0.5134859085083008] [unyt_quantity(0.00406913, 'code_velocity'), unyt_quantity(-0.0050886, 'code_velocity'), unyt_quantity(0.00270514, 'code_velocity')]\n"
     ]
    },
    {
     "name": "stderr",
     "output_type": "stream",
     "text": [
      "yt : [WARNING  ] 2025-08-22 13:07:11,628 Field ('index', 'cell_id') already exists. To override use `force_override=True`.\n",
      "yt : [WARNING  ] 2025-08-22 13:07:11,629 The young_stars particle filter already exists. Overriding.\n",
      "yt : [WARNING  ] 2025-08-22 13:07:11,632 The young_stars3 particle filter already exists. Overriding.\n",
      "yt : [WARNING  ] 2025-08-22 13:07:11,636 The young_stars8 particle filter already exists. Overriding.\n",
      "yt : [WARNING  ] 2025-08-22 13:07:11,640 The old_stars particle filter already exists. Overriding.\n",
      "yt : [WARNING  ] 2025-08-22 13:07:11,644 The stars particle filter already exists. Overriding.\n",
      "yt : [WARNING  ] 2025-08-22 13:07:11,648 The dm particle filter already exists. Overriding.\n"
     ]
    },
    {
     "name": "stdout",
     "output_type": "stream",
     "text": [
      "made it to here!\n",
      "ds.halo_velocity_kms =  [ 213.88969375 -245.74012366  136.81608606] km/s  so we can add the centered velocity and energy fields\n",
      "filtering young_stars particles...\n",
      "filtering young_stars3 particles...\n",
      "filtering young_stars8 particles...\n",
      "filtering old_stars particles...\n",
      "filtering stars particles...\n",
      "filtering dm particles...\n"
     ]
    }
   ],
   "source": [
    "ds, refine_box = foggie_load(snap_name, trackfile_name = trackname) "
   ]
  },
  {
   "cell_type": "code",
   "execution_count": 6,
   "id": "3cb18f32-9a7b-4381-9c47-d03ac33934f9",
   "metadata": {},
   "outputs": [
    {
     "data": {
      "text/plain": [
       "(unyt_array([0.54093647, 0.45104694, 0.51348591], 'code_length'),\n",
       " unyt_array([ 213.88969375, -245.74012366,  136.81608606], 'km/s'))"
      ]
     },
     "execution_count": 6,
     "metadata": {},
     "output_type": "execute_result"
    }
   ],
   "source": [
    "ds.halo_center_code, ds.halo_velocity_kms"
   ]
  },
  {
   "cell_type": "markdown",
   "id": "0f8f7b75-013f-4b49-98e2-b469503b8eb7",
   "metadata": {},
   "source": [
    "##"
   ]
  },
  {
   "cell_type": "markdown",
   "id": "3b8c4ba4-45be-4cc4-959d-8f935c6ecd4f",
   "metadata": {},
   "source": [
    "Now test foggie_load when we give it a track file and the pre-calculated halo_c_v file. "
   ]
  },
  {
   "cell_type": "code",
   "execution_count": 9,
   "id": "5722943f-b5c3-4365-b934-2521dd0c4be6",
   "metadata": {},
   "outputs": [
    {
     "name": "stderr",
     "output_type": "stream",
     "text": [
      "yt : [INFO     ] 2025-08-22 13:08:02,521 Parameters: current_time              = 639.44480357087\n",
      "yt : [INFO     ] 2025-08-22 13:08:02,521 Parameters: domain_dimensions         = [256 256 256]\n",
      "yt : [INFO     ] 2025-08-22 13:08:02,522 Parameters: domain_left_edge          = [0. 0. 0.]\n",
      "yt : [INFO     ] 2025-08-22 13:08:02,522 Parameters: domain_right_edge         = [1. 1. 1.]\n",
      "yt : [INFO     ] 2025-08-22 13:08:02,522 Parameters: cosmological_simulation   = 1\n",
      "yt : [INFO     ] 2025-08-22 13:08:02,522 Parameters: current_redshift          = 0\n",
      "yt : [INFO     ] 2025-08-22 13:08:02,523 Parameters: omega_lambda              = 0.715\n",
      "yt : [INFO     ] 2025-08-22 13:08:02,523 Parameters: omega_matter              = 0.285\n",
      "yt : [INFO     ] 2025-08-22 13:08:02,523 Parameters: omega_radiation           = 0\n",
      "yt : [INFO     ] 2025-08-22 13:08:02,523 Parameters: hubble_constant           = 0.695\n"
     ]
    },
    {
     "name": "stdout",
     "output_type": "stream",
     "text": [
      "Opening snapshot RD0042/RD0042\n"
     ]
    },
    {
     "name": "stderr",
     "output_type": "stream",
     "text": [
      "Parsing Hierarchy : 100%|██████████████████████████████████████████████████████████████████████████████████████████████████████████████████████████████████████████████████████████████████████████████| 9304/9304 [00:00<00:00, 19126.01it/s]\n",
      "yt : [INFO     ] 2025-08-22 13:08:03,085 Gathering a field list (this may take a moment.)\n",
      "yt : [WARNING  ] 2025-08-22 13:08:03,342 Field ('index', 'cell_id') already exists. To override use `force_override=True`.\n",
      "yt : [WARNING  ] 2025-08-22 13:08:03,342 The young_stars particle filter already exists. Overriding.\n",
      "yt : [WARNING  ] 2025-08-22 13:08:03,346 The young_stars3 particle filter already exists. Overriding.\n",
      "yt : [WARNING  ] 2025-08-22 13:08:03,350 The young_stars8 particle filter already exists. Overriding.\n",
      "yt : [WARNING  ] 2025-08-22 13:08:03,354 The old_stars particle filter already exists. Overriding.\n",
      "yt : [WARNING  ] 2025-08-22 13:08:03,358 The stars particle filter already exists. Overriding.\n",
      "yt : [WARNING  ] 2025-08-22 13:08:03,362 The dm particle filter already exists. Overriding.\n"
     ]
    },
    {
     "name": "stdout",
     "output_type": "stream",
     "text": [
      "get_refine_box: using this location: col1   col2     col3     col4    col5     col6     col7  col8\n",
      "---- -------- -------- ------- -------- -------- ------- ----\n",
      " 0.0 0.540194 0.449845 0.51256 0.542194 0.451845 0.51456   10\n",
      "Will look for halo_c_v_file:  /Users/tumlinson/Dropbox/FOGGIE/foggie/foggie/halo_infos/005016/nref11c_nref9f/halo_c_v\n",
      "Found halo_c_v file: /Users/tumlinson/Dropbox/FOGGIE/foggie/foggie/halo_infos/005016/nref11c_nref9f/halo_c_v\n",
      "Using halo_c_v catalog file:  /Users/tumlinson/Dropbox/FOGGIE/foggie/foggie/halo_infos/005016/nref11c_nref9f/halo_c_v  for center style  catalog\n",
      "Pulling halo center from catalog file\n",
      "halo center in kpc:  [77832.58561608 64898.84081504 73882.86453357] kpc\n",
      "halo velocity in km/s:  [ 213.88969375 -245.74012366  136.81608606] km/s\n",
      "made it to here!\n",
      "ds.halo_velocity_kms =  [ 213.88969375 -245.74012366  136.81608606] km/s  so we can add the centered velocity and energy fields\n",
      "filtering young_stars particles...\n",
      "filtering young_stars3 particles...\n",
      "filtering young_stars8 particles...\n",
      "filtering old_stars particles...\n",
      "filtering stars particles...\n",
      "filtering dm particles...\n",
      "using particle type  stars  to derive angular momentum\n",
      "found angular momentum vector\n"
     ]
    }
   ],
   "source": [
    "ds, refine_box = foggie_load(snap_name, trackfile_name = trackname, halo_c_v_name=halo_c_v_name, \n",
    "                             do_filter_particles=True, disk_relative=True, particle_type_for_angmom='stars') "
   ]
  },
  {
   "cell_type": "code",
   "execution_count": 8,
   "id": "e91bcffe-d77c-41fb-965c-adc3a68ce089",
   "metadata": {},
   "outputs": [
    {
     "data": {
      "text/plain": [
       "(unyt_array([0.54093647, 0.45104694, 0.51348591], 'code_length'),\n",
       " unyt_array([ 213.88969375, -245.74012366,  136.81608606], 'km/s'))"
      ]
     },
     "execution_count": 8,
     "metadata": {},
     "output_type": "execute_result"
    }
   ],
   "source": [
    "ds.halo_center_code, ds.halo_velocity_kms"
   ]
  },
  {
   "cell_type": "code",
   "execution_count": null,
   "id": "56880f92-9c67-4edc-b2d3-c08f99c92c1f",
   "metadata": {},
   "outputs": [],
   "source": []
  }
 ],
 "metadata": {
  "kernelspec": {
   "display_name": "Python 3 (ipykernel)",
   "language": "python",
   "name": "python3"
  },
  "language_info": {
   "codemirror_mode": {
    "name": "ipython",
    "version": 3
   },
   "file_extension": ".py",
   "mimetype": "text/x-python",
   "name": "python",
   "nbconvert_exporter": "python",
   "pygments_lexer": "ipython3",
   "version": "3.12.2"
  }
 },
 "nbformat": 4,
 "nbformat_minor": 5
}
