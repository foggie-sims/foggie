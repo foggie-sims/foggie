{
 "cells": [
  {
   "cell_type": "code",
   "execution_count": 1,
   "metadata": {
    "ExecuteTime": {
     "end_time": "2021-07-09T20:29:57.965124Z",
     "start_time": "2021-07-09T20:29:46.595308Z"
    }
   },
   "outputs": [
    {
     "name": "stderr",
     "output_type": "stream",
     "text": [
      "yt : [INFO     ] 2021-07-09 16:29:51,498 Parameters: current_time              = 525.356646014\n",
      "yt : [INFO     ] 2021-07-09 16:29:51,499 Parameters: domain_dimensions         = [256 256 256]\n",
      "yt : [INFO     ] 2021-07-09 16:29:51,499 Parameters: domain_left_edge          = [0. 0. 0.]\n",
      "yt : [INFO     ] 2021-07-09 16:29:51,500 Parameters: domain_right_edge         = [1. 1. 1.]\n",
      "yt : [INFO     ] 2021-07-09 16:29:51,501 Parameters: cosmological_simulation   = 1\n",
      "yt : [INFO     ] 2021-07-09 16:29:51,501 Parameters: current_redshift          = 0.1999999919284\n",
      "yt : [INFO     ] 2021-07-09 16:29:51,501 Parameters: omega_lambda              = 0.715\n",
      "yt : [INFO     ] 2021-07-09 16:29:51,502 Parameters: omega_matter              = 0.285\n",
      "yt : [INFO     ] 2021-07-09 16:29:51,502 Parameters: omega_radiation           = 0\n",
      "yt : [INFO     ] 2021-07-09 16:29:51,503 Parameters: hubble_constant           = 0.695\n",
      "Parsing Hierarchy :   0%|          | 0/12166 [00:00<?, ?it/s]"
     ]
    },
    {
     "name": "stdout",
     "output_type": "stream",
     "text": [
      "[0] This snapshot is not in the halos_df file, calculating halo center...\n",
      "\n",
      "Opening snapshot /Users/acharyya/models/simulation_output/foggie/halo_004123/nref11c_nref9f/RD0038/RD0038\n",
      "get_refine_box: using this location:       col1         col2     col3     col4     col5     col6     col7   col8\n",
      "---------------- -------- -------- -------- -------- -------- -------- ----\n",
      "0.20008072174869 0.472893 0.457659 0.470829 0.474893 0.459659 0.472829    9\n"
     ]
    },
    {
     "name": "stderr",
     "output_type": "stream",
     "text": [
      "Parsing Hierarchy : 100%|█████████▉| 12165/12166 [00:01<00:00, 10261.03it/s]\n",
      "yt : [INFO     ] 2021-07-09 16:29:53,072 Gathering a field list (this may take a moment.)\n"
     ]
    },
    {
     "name": "stdout",
     "output_type": "stream",
     "text": [
      "This snapshot is not in the halo_c_v file, calculating halo center...\n",
      "get_halo_centers:  code_length code_velocity\n",
      "we have obtained the spherical region\n",
      "we have extracted the DM density\n",
      " we have obtained the preliminary center\n",
      "got the velocities\n",
      "Located the main halo at: [0.4738893508911133, 0.45866680145263666, 0.47179126739501953] [unyt_quantity(-0.00206656, 'code_velocity'), unyt_quantity(-0.00128509, 'code_velocity'), unyt_quantity(-0.00200851, 'code_velocity')]\n",
      "filtering young_stars particles...\n",
      "filtering old_stars particles...\n",
      "filtering stars particles...\n",
      "filtering dm particles...\n",
      "[0] Doing snapshot RD0038 of halo 4123 which is 0 out of 0 of the 1 snapshots alloted to this core...\n",
      "\n",
      "[0] Reading from existing file /Users/acharyya/Work/astro/foggie_outputs/plots_halo_004123/nref11c_nref9f/txtfiles/RD0038_young_star_properties.txt\n",
      "\n",
      "[0] RD0038 completed in 0.0006401538848876953 minutes\n",
      "\n",
      "[0] All sims done in 0.10965001583099365 minutes\n",
      "\n"
     ]
    }
   ],
   "source": [
    "# just to get 'args'\n",
    "#%run filter_star_properties.py --system ayan_local --halo 8508 --output RD0042\n",
    "%run filter_star_properties.py --system ayan_local --halo 4123 --output RD0038"
   ]
  },
  {
   "cell_type": "code",
   "execution_count": 2,
   "metadata": {
    "ExecuteTime": {
     "end_time": "2021-07-09T20:30:05.147716Z",
     "start_time": "2021-07-09T20:29:57.967341Z"
    }
   },
   "outputs": [
    {
     "name": "stderr",
     "output_type": "stream",
     "text": [
      "yt : [INFO     ] 2021-07-09 16:29:58,050 Parameters: current_time              = 525.356646014\n",
      "yt : [INFO     ] 2021-07-09 16:29:58,050 Parameters: domain_dimensions         = [256 256 256]\n",
      "yt : [INFO     ] 2021-07-09 16:29:58,051 Parameters: domain_left_edge          = [0. 0. 0.]\n",
      "yt : [INFO     ] 2021-07-09 16:29:58,051 Parameters: domain_right_edge         = [1. 1. 1.]\n",
      "yt : [INFO     ] 2021-07-09 16:29:58,052 Parameters: cosmological_simulation   = 1\n",
      "yt : [INFO     ] 2021-07-09 16:29:58,052 Parameters: current_redshift          = 0.1999999919284\n",
      "yt : [INFO     ] 2021-07-09 16:29:58,053 Parameters: omega_lambda              = 0.715\n",
      "yt : [INFO     ] 2021-07-09 16:29:58,053 Parameters: omega_matter              = 0.285\n",
      "yt : [INFO     ] 2021-07-09 16:29:58,054 Parameters: omega_radiation           = 0\n",
      "yt : [INFO     ] 2021-07-09 16:29:58,055 Parameters: hubble_constant           = 0.695\n"
     ]
    },
    {
     "name": "stdout",
     "output_type": "stream",
     "text": [
      "Opening snapshot /Users/acharyya/models/simulation_output/foggie/halo_004123/nref11c_nref9f/RD0038/RD0038\n"
     ]
    },
    {
     "name": "stderr",
     "output_type": "stream",
     "text": [
      "\r",
      "Parsing Hierarchy :   0%|          | 0/12166 [00:00<?, ?it/s]"
     ]
    },
    {
     "name": "stdout",
     "output_type": "stream",
     "text": [
      "get_refine_box: using this location:       col1         col2     col3     col4     col5     col6     col7   col8\n",
      "---------------- -------- -------- -------- -------- -------- -------- ----\n",
      "0.20008072174869 0.472893 0.457659 0.470829 0.474893 0.459659 0.472829    9\n"
     ]
    },
    {
     "name": "stderr",
     "output_type": "stream",
     "text": [
      "Parsing Hierarchy : 100%|█████████▉| 12165/12166 [00:01<00:00, 9289.03it/s] \n",
      "yt : [INFO     ] 2021-07-09 16:29:59,803 Gathering a field list (this may take a moment.)\n"
     ]
    },
    {
     "name": "stdout",
     "output_type": "stream",
     "text": [
      "This snapshot is not in the halo_c_v file, calculating halo center...\n",
      "get_halo_centers:  code_length code_velocity\n",
      "we have obtained the spherical region\n",
      "we have extracted the DM density\n",
      " we have obtained the preliminary center\n",
      "got the velocities\n",
      "Located the main halo at: [0.4738893508911133, 0.45866680145263666, 0.47179126739501953] [unyt_quantity(-0.00206656, 'code_velocity'), unyt_quantity(-0.00128509, 'code_velocity'), unyt_quantity(-0.00200851, 'code_velocity')]\n"
     ]
    },
    {
     "name": "stderr",
     "output_type": "stream",
     "text": [
      "yt : [WARNING  ] 2021-07-09 16:30:05,083 The young_stars particle filter already exists. Overriding.\n",
      "yt : [WARNING  ] 2021-07-09 16:30:05,098 The old_stars particle filter already exists. Overriding.\n",
      "yt : [WARNING  ] 2021-07-09 16:30:05,112 The stars particle filter already exists. Overriding.\n",
      "yt : [WARNING  ] 2021-07-09 16:30:05,126 The dm particle filter already exists. Overriding.\n"
     ]
    },
    {
     "name": "stdout",
     "output_type": "stream",
     "text": [
      "filtering young_stars particles...\n",
      "filtering old_stars particles...\n",
      "filtering stars particles...\n",
      "filtering dm particles...\n"
     ]
    }
   ],
   "source": [
    "ds, refine_box = load_sim(args, region='refine_box')"
   ]
  },
  {
   "cell_type": "code",
   "execution_count": 3,
   "metadata": {
    "ExecuteTime": {
     "end_time": "2021-07-09T20:30:05.153116Z",
     "start_time": "2021-07-09T20:30:05.150191Z"
    }
   },
   "outputs": [],
   "source": [
    "ad = ds.all_data()"
   ]
  },
  {
   "cell_type": "code",
   "execution_count": 4,
   "metadata": {
    "ExecuteTime": {
     "end_time": "2021-07-09T20:31:59.734118Z",
     "start_time": "2021-07-09T20:30:05.155232Z"
    }
   },
   "outputs": [],
   "source": [
    "xgrid = ad['young_stars', 'particle_position_x']"
   ]
  },
  {
   "cell_type": "code",
   "execution_count": 5,
   "metadata": {
    "ExecuteTime": {
     "end_time": "2021-07-09T20:31:59.739879Z",
     "start_time": "2021-07-09T20:31:59.736763Z"
    }
   },
   "outputs": [
    {
     "name": "stdout",
     "output_type": "stream",
     "text": [
      "Extracting parameters for 18810 young stars...\n"
     ]
    }
   ],
   "source": [
    "print('Extracting parameters for ' + str(len(xgrid)) + ' young stars...')"
   ]
  },
  {
   "cell_type": "code",
   "execution_count": 6,
   "metadata": {
    "ExecuteTime": {
     "end_time": "2021-07-09T20:33:41.554204Z",
     "start_time": "2021-07-09T20:31:59.741941Z"
    }
   },
   "outputs": [],
   "source": [
    "zgrid = ad['young_stars', 'particle_position_z']"
   ]
  },
  {
   "cell_type": "code",
   "execution_count": 7,
   "metadata": {
    "ExecuteTime": {
     "end_time": "2021-07-09T20:35:14.304505Z",
     "start_time": "2021-07-09T20:33:41.556133Z"
    }
   },
   "outputs": [],
   "source": [
    "ygrid = ad['young_stars', 'particle_position_y']"
   ]
  },
  {
   "cell_type": "code",
   "execution_count": 8,
   "metadata": {
    "ExecuteTime": {
     "end_time": "2021-07-09T20:35:14.312941Z",
     "start_time": "2021-07-09T20:35:14.309490Z"
    }
   },
   "outputs": [],
   "source": [
    "px = xgrid.in_units('kpc')\n",
    "py = ygrid.in_units('kpc')\n",
    "pz = zgrid.in_units('kpc')"
   ]
  },
  {
   "cell_type": "code",
   "execution_count": 9,
   "metadata": {
    "ExecuteTime": {
     "end_time": "2021-07-09T20:36:51.608425Z",
     "start_time": "2021-07-09T20:35:14.315329Z"
    }
   },
   "outputs": [],
   "source": [
    "vx = ad['young_stars', 'particle_velocity_x'].in_units('km/s')"
   ]
  },
  {
   "cell_type": "code",
   "execution_count": 10,
   "metadata": {
    "ExecuteTime": {
     "end_time": "2021-07-09T20:38:46.693418Z",
     "start_time": "2021-07-09T20:36:51.610770Z"
    }
   },
   "outputs": [],
   "source": [
    "vy = ad['young_stars', 'particle_velocity_y'].in_units('km/s')"
   ]
  },
  {
   "cell_type": "code",
   "execution_count": 11,
   "metadata": {
    "ExecuteTime": {
     "end_time": "2021-07-09T20:40:35.046764Z",
     "start_time": "2021-07-09T20:38:46.696173Z"
    }
   },
   "outputs": [],
   "source": [
    "vz = ad['young_stars', 'particle_velocity_z'].in_units('km/s')"
   ]
  },
  {
   "cell_type": "code",
   "execution_count": 12,
   "metadata": {
    "ExecuteTime": {
     "end_time": "2021-07-09T20:42:20.226189Z",
     "start_time": "2021-07-09T20:40:35.049732Z"
    }
   },
   "outputs": [],
   "source": [
    "age = ad['young_stars', 'age'].in_units('Myr')"
   ]
  },
  {
   "cell_type": "code",
   "execution_count": 13,
   "metadata": {
    "ExecuteTime": {
     "end_time": "2021-07-09T20:44:15.760518Z",
     "start_time": "2021-07-09T20:42:20.228105Z"
    }
   },
   "outputs": [],
   "source": [
    "mass = ad['young_stars', 'particle_mass'].in_units('Msun')"
   ]
  },
  {
   "cell_type": "code",
   "execution_count": 14,
   "metadata": {
    "ExecuteTime": {
     "end_time": "2021-07-09T20:44:15.764615Z",
     "start_time": "2021-07-09T20:44:15.761909Z"
    }
   },
   "outputs": [],
   "source": [
    "# ambient gas properties only at point where young stars are located:\n",
    "coord = np.vstack([xgrid, ygrid, zgrid]).transpose()"
   ]
  },
  {
   "cell_type": "code",
   "execution_count": 15,
   "metadata": {
    "ExecuteTime": {
     "end_time": "2021-07-09T20:44:17.794297Z",
     "start_time": "2021-07-09T20:44:15.766669Z"
    }
   },
   "outputs": [],
   "source": [
    "pres = ds.find_field_values_at_points([('gas', 'pressure')], coord)"
   ]
  },
  {
   "cell_type": "code",
   "execution_count": 16,
   "metadata": {
    "ExecuteTime": {
     "end_time": "2021-07-09T20:44:19.532690Z",
     "start_time": "2021-07-09T20:44:17.796137Z"
    }
   },
   "outputs": [],
   "source": [
    "den = ds.find_field_values_at_points([('gas', 'density')], coord)"
   ]
  },
  {
   "cell_type": "code",
   "execution_count": 17,
   "metadata": {
    "ExecuteTime": {
     "end_time": "2021-07-09T20:44:21.388009Z",
     "start_time": "2021-07-09T20:44:19.535601Z"
    }
   },
   "outputs": [],
   "source": [
    "temp = ds.find_field_values_at_points([('gas', 'temperature')], coord)"
   ]
  },
  {
   "cell_type": "code",
   "execution_count": 18,
   "metadata": {
    "ExecuteTime": {
     "end_time": "2021-07-09T20:44:23.247149Z",
     "start_time": "2021-07-09T20:44:21.391051Z"
    }
   },
   "outputs": [],
   "source": [
    "Z = ds.find_field_values_at_points([('gas', 'metallicity')], coord)"
   ]
  },
  {
   "cell_type": "code",
   "execution_count": 19,
   "metadata": {
    "ExecuteTime": {
     "end_time": "2021-07-09T20:44:23.541035Z",
     "start_time": "2021-07-09T20:44:23.250003Z"
    }
   },
   "outputs": [],
   "source": [
    "outfilename = '/Users/acharyya/Downloads/trial_' + args.output + '_young_star_properties.txt'\n",
    "# saving the header (with units, etc.) first in a new txt file\n",
    "header = 'Units for the following columns: \\n\\\n",
    "pos_x, pos_y, pos_z: kpc \\n\\\n",
    "vel_x, vel_y, vel_z: km/s \\n\\\n",
    "age: Myr \\n\\\n",
    "mass: Msun \\n\\\n",
    "gas_density in a cell: ' + ds.field_info[('gas', 'density')].units + ' \\n\\\n",
    "gas_pressure in a cell: ' + ds.field_info[('gas', 'pressure')].units + ' \\n\\\n",
    "gas_temp in a cell: ' + ds.field_info[('gas', 'temperature')].units + ' \\n\\\n",
    "gas_metal in a cell: ' + ds.field_info[('gas', 'metallicity')].units\n",
    "np.savetxt(outfilename, [], header=header, comments='#')\n",
    "\n",
    "# creating and saving the dataframe itself to the file which already has the header\n",
    "paramlist = pd.DataFrame(\n",
    "    {'pos_x': px, 'pos_y': py, 'pos_z': pz, 'vel_x': vx, 'vel_y': vy, 'vel_z': vz, 'age': age, 'mass': mass,\n",
    "     'gas_density': den, 'gas_pressure': pres, 'gas_temp': temp, 'gas_metal': Z})\n",
    "paramlist.to_csv(outfilename, sep='\\t', mode='a', index=None)"
   ]
  },
  {
   "cell_type": "code",
   "execution_count": null,
   "metadata": {},
   "outputs": [],
   "source": []
  }
 ],
 "metadata": {
  "kernelspec": {
   "display_name": "Python 3",
   "language": "python",
   "name": "python3"
  },
  "language_info": {
   "codemirror_mode": {
    "name": "ipython",
    "version": 3
   },
   "file_extension": ".py",
   "mimetype": "text/x-python",
   "name": "python",
   "nbconvert_exporter": "python",
   "pygments_lexer": "ipython3",
   "version": "3.6.12"
  }
 },
 "nbformat": 4,
 "nbformat_minor": 4
}
