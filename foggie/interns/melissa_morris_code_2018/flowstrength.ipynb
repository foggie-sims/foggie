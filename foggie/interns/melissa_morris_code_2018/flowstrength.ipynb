{
 "cells": [
  {
   "cell_type": "markdown",
   "metadata": {},
   "source": [
    "AUTHOR: Melissa Morris\n",
    "\n",
    "DATE: 08/18/2017\n",
    "\n",
    "NAME: flowstrength.ipynb\n",
    "\n",
    "DESCRIPTION: goes over the method used to calculate flow strengths and differentiate outflows from inflows"
   ]
  },
  {
   "cell_type": "markdown",
   "metadata": {},
   "source": [
    "# Outflow Strength Calculations\n",
    "\n",
    "In this notebook, I go over how outflow and inflow strengths are calculated for a single snapshot. These methods have been incorporated in paramovie.py."
   ]
  },
  {
   "cell_type": "code",
   "execution_count": 35,
   "metadata": {
    "collapsed": true
   },
   "outputs": [],
   "source": [
    "import numpy as np\n",
    "import matplotlib.pyplot as plt\n",
    "import yt\n",
    "from glob import glob\n",
    "from astropy.table import Table\n",
    "from yt.units import kpc,km,s,cm\n",
    "import astropy\n",
    "import siman"
   ]
  },
  {
   "cell_type": "markdown",
   "metadata": {},
   "source": [
    "# Working Functions"
   ]
  },
  {
   "cell_type": "code",
   "execution_count": 11,
   "metadata": {
    "collapsed": true
   },
   "outputs": [],
   "source": [
    "def galaxy_center(filename):\n",
    "    track = Table.read('/astro/simulations/FOGGIE/'+filename[26:-14]+'/halo_track', format='ascii') \n",
    "    track.sort('col1')\n",
    "\n",
    "    # load the snapshot\n",
    "    ds = yt.load(filename)\n",
    "    zsnap = ds.get_parameter('CosmologyCurrentRedshift')\n",
    "    \n",
    "    # interpolate the center from the track\n",
    "    centerx = np.interp(zsnap, track['col1'], track['col2']) \n",
    "    centery = np.interp(zsnap, track['col1'], track['col3']) \n",
    "    centerz = 0.5 * ( np.interp(zsnap, track['col1'], track['col4']) + np.interp(zsnap, track['col1'], track['col7'])) \n",
    "\n",
    "    # approximation of center using jason's method\n",
    "    nearcen = [centerx, centery+20. / 143886., centerz]\n",
    "    \n",
    "    # searches sphere w/ 50 kpc radius and sets center at point with highest density\n",
    "    sph = ds.sphere(nearcen, (50,'kpc'))\n",
    "    best = np.where(np.max(sph['dark_matter_density'])==sph['dark_matter_density'])[0][0]\n",
    "    center = [sph['x'][best],sph['y'][best],sph['z'][best]]\n",
    "\n",
    "    return ds,center"
   ]
  },
  {
   "cell_type": "code",
   "execution_count": 12,
   "metadata": {
    "collapsed": true
   },
   "outputs": [],
   "source": [
    "# Calculates the mass outflow with given radial flux and mass\n",
    "def calculate_mass_flow(flux,mass,step):\n",
    "    happy = np.sum(np.multiply(flux,mass)/(step*kpc))\n",
    "    return happy.in_units('Msun/yr')"
   ]
  },
  {
   "cell_type": "code",
   "execution_count": 31,
   "metadata": {
    "collapsed": true
   },
   "outputs": [],
   "source": [
    "# Calculates the mass outflow\n",
    "def calculate_mass_flow_profile(spcyl,lower=0,upper=100,step=5,pos='above',flow='out',vmeth='cyl'):\n",
    "    if vmeth == 'cyl':\n",
    "        # Allows us to call the cylindrically derived flux\n",
    "        met = 'cyl_flux'\n",
    "        # cyl method: radius refers to the distance above the disk of the galaxy\n",
    "        radius = spcyl['height'].in_units('kpc')\n",
    "    elif vmeth == 'rad':\n",
    "        # Allows us to call the radially derived flux\n",
    "        met='radial_flux'\n",
    "        # sph method: radius refers to the distance from the center of the galaxy\n",
    "        radius = spcyl['radius'].in_units('kpc')\n",
    "    \n",
    "    # The list of heights over which the calculations are done\n",
    "    height_list = np.arange(lower,upper+2*step,step)*kpc\n",
    "    # Loads the position of each point with respect to the galactic center\n",
    "    position = spcyl['center_position']\n",
    "    # Loads the velocity flux using the method specified\n",
    "    vel_flux = spcyl[met].in_units('km/s')\n",
    "    # Loads the cell mass of each element\n",
    "    mass = spcyl['cell_mass'].in_units('Msun')\n",
    "    \n",
    "    # Differentiates outflows and inflows by comparing the sign of the velocity flux.\n",
    "    # It is important to note that, when using the cyl method, you must reverse the \n",
    "    #     'out' and 'in' keywords when looking below the disk of the galaxy, due to\n",
    "    #     the fact that the signs will be reversed.\n",
    "    #\n",
    "    # For the CYL method:\n",
    "    # Inflows: v < 0 above the disk, v > 0 below the disk\n",
    "    # Outflows: v > 0 above the disk, v < 0 below the disk\n",
    "    #\n",
    "    # For the RAD method:\n",
    "    # Inflows: v < 0 everywhere\n",
    "    # Outflows: v > 0 everywhere\n",
    "    \n",
    "    if flow =='out':\n",
    "        f = vel_flux > 0\n",
    "    elif flow == 'in':\n",
    "        f = vel_flux < 0\n",
    "    elif flow == 'all':\n",
    "        f = all\n",
    "    else:\n",
    "        print \"error: flow not specified\"\n",
    "        return None\n",
    "\n",
    "    # Specifies where calculations are performed with respect to the disk.\n",
    "    # Again, it is important to note that, when using the cyl method, you will\n",
    "    #     need to reverse the signs for inflows and outflows.\n",
    "    if pos == 'above':\n",
    "        p = np.dot(L,position)>\n",
    "    elif pos == 'below':\n",
    "        p = np.dot(L,position)<0\n",
    "    elif pos == 'all':\n",
    "        p = all\n",
    "    else:\n",
    "        print \"error: position not specified\"\n",
    "        return None\n",
    "\n",
    "    outflow = []\n",
    "    for i in range(len(height_list)-1):\n",
    "        # Includes only points within a specified height range that follow\n",
    "        #     the flow and position criteria specified.\n",
    "        x = np.where((radius > height_list[i])&\n",
    "                     (radius < height_list[i+1])&\n",
    "                     (f)&\n",
    "                     (p))[0]\n",
    "        # Adds the calculated outflow rate for the current shell to outflow\n",
    "        outflow.append(calculate_mass_flow(spcyl[met][x],spcyl['cell_mass'][x],step))\n",
    "    return height_list[:-1],outflow"
   ]
  },
  {
   "cell_type": "markdown",
   "metadata": {},
   "source": [
    "# Loading Data"
   ]
  },
  {
   "cell_type": "markdown",
   "metadata": {},
   "source": [
    "First, the simulation snapshot we'll be using needs to be loaded. There are directory names and angular momentum vectors for each of the 5 simulations that have been found using the methods followed in edgefinder. In order to load the simulation, make sure the only mid, L, and Lx variables that are not commented are the ones for the simulation you plan on analyzing.\n",
    "\n",
    "mid: the name of the main simulation directory\n",
    "\n",
    "L: the angular momentum vector calculated using the method found in edgefinder\n",
    "\n",
    "Lx: a vector that is orthogonal to the angular momentum vector calculated using the edgefinder method\n",
    "\n",
    "Once you have selected a simulation, this creates a list of all of the snapshots (DD????) for this particular simulation."
   ]
  },
  {
   "cell_type": "code",
   "execution_count": 26,
   "metadata": {
    "collapsed": true
   },
   "outputs": [],
   "source": [
    "# This is the base path to the directory containing the simulation snapshots\n",
    "base = '/astro/simulations/FOGGIE/halo_008508/'\n",
    "\n",
    "# 100% Feedback\n",
    "#mid = 'nref10_track_2'\n",
    "#L = [-0.37645994,  0.50723191,  0.77523784]\n",
    "#Lx = [ 0.,          0.83679869, -0.54751068]\n",
    "\n",
    "# 30% Feedback\n",
    "mid = 'nref10_track_lowfdbk_1'\n",
    "L = [-0.56197719,  0.56376017,  0.60527358]\n",
    "Lx = [ 0.,          0.73175552, -0.6815672 ]\n",
    "\n",
    "# 10% Feedback\n",
    "#mid = 'nref10_track_lowfdbk_2'\n",
    "#L = [-0.48868346,  0.6016812,   0.63179761]\n",
    "#Lx = [ 0., 0.72415556, -0.68963666]\n",
    "\n",
    "# 3% Feedback\n",
    "#mid = 'nref10_track_lowfdbk_3'\n",
    "#L = [-0.28229104, 0.68215233, 0.67452203]\n",
    "#Lx = [ 0., 0.7031187, -0.71107249]\n",
    "\n",
    "# 1% Feedback\n",
    "#mid = 'nref10_track_lowfdbk_4'\n",
    "#L = [-0.37819875, 0.57817821, 0.72296312]\n",
    "#Lx = [ 0., 0.78097012, -0.62456839]\n",
    "\n",
    "full_dir = base+mid+'/DD????/DD????'\n",
    "all_dir = glob(full_dir)     # a list of each simulation snapshot found in the main simulation directory"
   ]
  },
  {
   "cell_type": "markdown",
   "metadata": {},
   "source": [
    "For our purposes, we will only look at one snapshot of our simulation.\n",
    "\n",
    "The galaxy_center function loads the snapshot and determines the center of the galaxy. We are then able to find the bulk velocity of the galaxy, which will used when calculating the rate of outflows."
   ]
  },
  {
   "cell_type": "code",
   "execution_count": 27,
   "metadata": {},
   "outputs": [
    {
     "name": "stderr",
     "output_type": "stream",
     "text": [
      "yt : [INFO     ] 2017-08-16 09:54:36,449 Parameters: current_time              = 306.816562811\n",
      "yt : [INFO     ] 2017-08-16 09:54:36,451 Parameters: domain_dimensions         = [256 256 256]\n",
      "yt : [INFO     ] 2017-08-16 09:54:36,453 Parameters: domain_left_edge          = [ 0.  0.  0.]\n",
      "yt : [INFO     ] 2017-08-16 09:54:36,454 Parameters: domain_right_edge         = [ 1.  1.  1.]\n",
      "yt : [INFO     ] 2017-08-16 09:54:36,456 Parameters: cosmological_simulation   = 1\n",
      "yt : [INFO     ] 2017-08-16 09:54:36,457 Parameters: current_redshift          = 0.84711265424\n",
      "yt : [INFO     ] 2017-08-16 09:54:36,458 Parameters: omega_lambda              = 0.715\n",
      "yt : [INFO     ] 2017-08-16 09:54:36,459 Parameters: omega_matter              = 0.285\n",
      "yt : [INFO     ] 2017-08-16 09:54:36,460 Parameters: hubble_constant           = 0.695\n",
      "Parsing Hierarchy : 100%|██████████| 2424/2424 [00:00<00:00, 5130.17it/s]\n",
      "yt : [INFO     ] 2017-08-16 09:54:37,140 Gathering a field list (this may take a moment.)\n"
     ]
    }
   ],
   "source": [
    "# Uses the file below as a test case\n",
    "file_name = all_dir[50]\n",
    "\n",
    "# Finds center of galaxy, based on dark matter density\n",
    "ds,center = galaxy_center(file_name)\n",
    "\n",
    "# Finds the bulk velocity of the galaxy\n",
    "bsp = ds.sphere(center, (15,'kpc'))\n",
    "bulk_v = bsp.quantities.bulk_velocity()\n",
    "gx = bulk_v[0]\n",
    "gy = bulk_v[1]\n",
    "gz = bulk_v[2]"
   ]
  },
  {
   "cell_type": "markdown",
   "metadata": {},
   "source": [
    "# Two Methods of Calculating Velocity Flux"
   ]
  },
  {
   "cell_type": "markdown",
   "metadata": {
    "collapsed": true
   },
   "source": [
    "### Method 1: Cylindrical Symmetry\n",
    "\n",
    "This method calculates the velocity component of the material that is perpendicular to the galactic disk."
   ]
  },
  {
   "cell_type": "markdown",
   "metadata": {},
   "source": [
    "First, the cyl_flux and center_position keywords are added to the field list of our current data set.\n",
    "\n",
    "The center_position keyword defines the poisition of each point with respect to the center of the galaxy, as opposed to the corner of the simulation. This is mostly used to determine where the particle is located with respect to the galactic disk.\n",
    "\n",
    "The cyl_flux keyword is the velocity component of the material that is moving in the direction perpendicular to the disk of the galaxy. It is calculated by subtracting the bulk velocity from the velocity of material at every point, then dotting this velocity with the angular momentum vector.\n",
    "\n",
    "Because the calculations are performed in this way, it is important to pay close attention to where the material being analyzed is with respect to the disk. Material that is above and moving away from the galaxy has a positive velocity. Material below and moving towards the galaxy also has a positive velocity since it is also moving in the same direction as the angular momentum vector. Be sure to remember this when comparing material above and below galactic disk."
   ]
  },
  {
   "cell_type": "code",
   "execution_count": 28,
   "metadata": {
    "collapsed": true
   },
   "outputs": [],
   "source": [
    "# Defines the position of a point with respect to the center of the galaxy\n",
    "def _centpos(field,data):\n",
    "    xpos = data['x'] - center[0]\n",
    "    ypos = data['y'] - center[1]\n",
    "    zpos = data['z'] - center[2]\n",
    "    pos = np.array([xpos,ypos,zpos])\n",
    "    return pos\n",
    "# Add this field to the loaded dataset\n",
    "ds.add_field('center_position',force_override=True, function=_centpos,units='', take_log=False,display_name='Position from Galaxy')\n",
    "\n",
    "# Calculates the velocity flux\n",
    "def _vflux(field,data):\n",
    "    # Define x, y, and z velocity components\n",
    "    x = data['x-velocity'].in_units('km/s')\n",
    "    y = data['y-velocity'].in_units('km/s')\n",
    "    z = data['z-velocity'].in_units('km/s')\n",
    "    # Take dot product of bulk velocity and angular momentum vector\n",
    "    bx = np.multiply(bulk_v[0],L[0])\n",
    "    by = np.multiply(bulk_v[1],L[1])\n",
    "    bz = np.multiply(bulk_v[2],L[2])\n",
    "    leng = bx+by+bz\n",
    "    # Subtract the bulk velocity from the velocity of the material at each point\n",
    "    nx = x-leng\n",
    "    ny = y-leng\n",
    "    nz = z-leng\n",
    "    # Take dot product of new velocity and angular momentum vector\n",
    "    Lxx = np.multiply(nx,L[0])\n",
    "    Ly = np.multiply(ny,L[1])\n",
    "    Lz = np.multiply(nz,L[2])\n",
    "    return Lxx+Ly+Lz\n",
    "\n",
    "# Add the cyl_flux field to our loaded dataset\n",
    "ds.add_field('cyl_flux',force_override=True, function=_vflux,units='code_velocity', take_log=False,display_name='Velocity Flux')"
   ]
  },
  {
   "cell_type": "markdown",
   "metadata": {},
   "source": [
    "Here, the mass flow rate is actually calculated. For more details on how this is done, you can refer to where this function is saved. The results are plotted below.\n",
    "\n",
    "It is important to note that, when using the cylindrical method, the sign of the velocity below the galaxy is flipped from that above the galaxy"
   ]
  },
  {
   "cell_type": "code",
   "execution_count": 29,
   "metadata": {
    "collapsed": true
   },
   "outputs": [],
   "source": [
    "# Define a sphere of data around the center with a radius of 100 kpc\n",
    "sp = ds.sphere(center,(100,'kpc'))\n",
    "# Calculate the mass outflow rate above the disk of the galaxy and save the height and outflow rate list to happy\n",
    "mass_flow = calculate_mass_flow_profile(sp,0,100,10)"
   ]
  },
  {
   "cell_type": "code",
   "execution_count": 15,
   "metadata": {},
   "outputs": [
    {
     "data": {
      "image/png": "[encoded data removed]",
      "text/plain": [
       "<matplotlib.figure.Figure at 0x11e734ed0>"
      ]
     },
     "metadata": {},
     "output_type": "display_data"
    }
   ],
   "source": [
    "# Plot the outflow rate as a function of distance above the galactic disk\n",
    "plt.plot(mass_flow[0],mass_flow[1])\n",
    "plt.title('100% feedback, binned by 5, starting at 3')\n",
    "plt.xlabel('Distance Above Galaxy (kpc)')\n",
    "plt.ylabel(r'Outflow rate (M$_\\odot$/yr)')\n",
    "# Optional, if you want to save this plot\n",
    "#plt.savefig('outflow_rate/fdbk100_bin5.png')\n",
    "plt.show()"
   ]
  },
  {
   "cell_type": "markdown",
   "metadata": {
    "collapsed": true
   },
   "source": [
    "### Method 2: Radial Symmetry\n",
    "\n",
    "This method finds the velocity component of the material that is moving in the direction radial to the center of the galaxy"
   ]
  },
  {
   "cell_type": "markdown",
   "metadata": {},
   "source": [
    "Here, the center_position keyword is used once again, along with the radial_flux keyword.\n",
    "\n",
    "In this case, the flux is calculated by dotting the velocity of the material at a certain point with the point's position relative to the center of the galaxy, in order to determine the velocity component moving radially away or towards the galaxy.\n",
    "\n",
    "Here, because we are not using the angular momentum vector, the sign of material moving away from the galaxy is always positive and material moving towards the galaxy is always negative, unlike calculations done using cylindrical symmetry."
   ]
  },
  {
   "cell_type": "code",
   "execution_count": 16,
   "metadata": {
    "collapsed": true
   },
   "outputs": [],
   "source": [
    "# Defines the position of a point with respect to the center of the galaxy\n",
    "def _centpos(field,data):\n",
    "    xpos = data['x'] - center[0]\n",
    "    ypos = data['y'] - center[1]\n",
    "    zpos = data['z'] - center[2]\n",
    "    pos = np.array([xpos,ypos,zpos])\n",
    "    return pos\n",
    "# Add this field to the loaded dataset\n",
    "ds.add_field('center_position',force_override=True, function=_centpos,units='', take_log=False,display_name='Position from Galaxy')\n",
    "\n",
    "def _rv(field,data):\n",
    "    pos = data['center_position']\n",
    "    # Normalize the position of each point relative to the galactic center\n",
    "    pos = np.array([pos[:,i]/np.linalg.norm(pos[:,i]) for i in range(len(pos[0]))])\n",
    "    # Take the dot product of the galaxy's bulk velocity with its position\n",
    "    #     relative to the galactic center.\n",
    "    # gx, gy, and gz are the bulk velocity calculated earlier\n",
    "    vbx = np.multiply(gx,pos[:,0])\n",
    "    vby = np.multiply(gy,pos[:,1])\n",
    "    vbz = np.multiply(gz,pos[:,2])\n",
    "    vb = vbx+vby+vbz\n",
    "    # Subtract the component of the bulk velocity in the radial direction from the\n",
    "    #    x, y, and z velocity of the material in the galaxy\n",
    "    vx = data['x-velocity']-vb\n",
    "    vy = data['y-velocity']-vb\n",
    "    vz = data['z-velocity']-vb\n",
    "    # Take the dot product of the new velocity with the position of the material with\n",
    "    #     respect to the galactic center in order to find the velocity moving radially\n",
    "    #     to or from the center of the galaxy.\n",
    "    rvx = np.multiply(vx,pos[:,0])\n",
    "    rvy = np.multiply(vy,pos[:,1])\n",
    "    rvz = np.multiply(vz,pos[:,2])\n",
    "    return rvx+rvy+rvz\n",
    "# Add this field to the loaded dataset\n",
    "ds.add_field('radial_flux',force_override=True, function=_rv,units='code_velocity', take_log=False,display_name='Radial Velocity')"
   ]
  },
  {
   "cell_type": "markdown",
   "metadata": {},
   "source": [
    "By using the vmeth keyword, you can change the method of calculation from the cylindrical method to the radial method, as shown below. The results for the radial method are also plotted below."
   ]
  },
  {
   "cell_type": "code",
   "execution_count": 21,
   "metadata": {
    "collapsed": true
   },
   "outputs": [],
   "source": [
    "sp = ds.sphere(center,(100,'kpc'))\n",
    "rad_mass_flow = calculate_mass_flow_profile(sp,3,100,10,vmeth='rad')"
   ]
  },
  {
   "cell_type": "code",
   "execution_count": 22,
   "metadata": {},
   "outputs": [
    {
     "data": {
      "image/png": "[encoded data removed]",
      "text/plain": [
       "<matplotlib.figure.Figure at 0x110656d50>"
      ]
     },
     "metadata": {},
     "output_type": "display_data"
    }
   ],
   "source": [
    "plt.plot(rad_mass_flow[0],rad_mass_flow[1])\n",
    "plt.title('100% feedback, binned by 5, starting at 3')\n",
    "plt.xlabel('Distance Above Galaxy (kpc)')\n",
    "plt.ylabel(r'Outflow rate (M$_\\odot$/yr)')\n",
    "#plt.savefig('outflow_rate/fdbk100_bin5.png')\n",
    "plt.show()"
   ]
  },
  {
   "cell_type": "code",
   "execution_count": 24,
   "metadata": {},
   "outputs": [
    {
     "data": {
      "image/png": "[encoded data removed]",
      "text/plain": [
       "<matplotlib.figure.Figure at 0x11ac31390>"
      ]
     },
     "metadata": {},
     "output_type": "display_data"
    }
   ],
   "source": [
    "plt.step(rad_mass_flow[0],rad_mass_flow[1])\n",
    "plt.title('100% feedback, binned by 10, starting at 3')\n",
    "plt.xlabel('Distance Above Galaxy (kpc)')\n",
    "plt.ylabel(r'Outflow rate (M$_\\odot$/yr)')\n",
    "#plt.savefig('outflow_rate/fdbk100_bin10.png')\n",
    "plt.show()"
   ]
  },
  {
   "cell_type": "code",
   "execution_count": null,
   "metadata": {
    "collapsed": true
   },
   "outputs": [],
   "source": []
  }
 ],
 "metadata": {
  "kernelspec": {
   "display_name": "Python 2",
   "language": "python",
   "name": "python2"
  },
  "language_info": {
   "codemirror_mode": {
    "name": "ipython",
    "version": 2
   },
   "file_extension": ".py",
   "mimetype": "text/x-python",
   "name": "python",
   "nbconvert_exporter": "python",
   "pygments_lexer": "ipython2",
   "version": "2.7.13"
  }
 },
 "nbformat": 4,
 "nbformat_minor": 2
}
