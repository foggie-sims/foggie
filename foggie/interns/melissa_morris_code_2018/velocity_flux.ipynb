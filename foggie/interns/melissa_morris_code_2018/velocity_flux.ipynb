{
 "cells": [
  {
   "cell_type": "markdown",
   "metadata": {},
   "source": [
    "AUTHOR: Melissa Morris\n",
    "\n",
    "DATE: 08/18/2017\n",
    "\n",
    "NAME: velocity_flux.ipynb\n",
    "\n",
    "DESCRIPTION: goes over methods used to calculate the velocity flux above and below the galaxy, as well as ways to differentiate between inflows and outflows"
   ]
  },
  {
   "cell_type": "markdown",
   "metadata": {},
   "source": [
    "# Velocity Flux Calculations\n",
    "\n",
    "In this notebook, I go over various methods of calculating the velocity flux, such as volume- and mass-weighted velocity flux and how to differentiate between inflows and outflows."
   ]
  },
  {
   "cell_type": "code",
   "execution_count": 1,
   "metadata": {
    "collapsed": true
   },
   "outputs": [],
   "source": [
    "import yt\n",
    "import numpy as np\n",
    "import matplotlib.pyplot as plt\n",
    "from astropy.table import Table\n",
    "import edgefinder\n",
    "import scipy.optimize as opt\n",
    "from yt.units import kpc,km,s,cm\n",
    "from yt import derived_field\n",
    "from yt.analysis_modules.halo_analysis.api import HaloCatalog\n",
    "import scipy\n",
    "from scipy import ndimage\n",
    "import os\n",
    "from time import time\n",
    "from glob import glob\n",
    "from siman import *\n",
    "%matplotlib inline"
   ]
  },
  {
   "cell_type": "markdown",
   "metadata": {},
   "source": [
    "# Loading data from file"
   ]
  },
  {
   "cell_type": "markdown",
   "metadata": {},
   "source": [
    "First, the simulation snapshot we'll be using needs to be loaded. There are directory names and angular momentum vectors for each of the 5 simulations that have been found using the methods followed in edgefinder. In order to load the simulation, make sure the only mid, L, and Lx variables that are not commented are the ones for the simulation you plan on analyzing.\n",
    "\n",
    "mid: the name of the main simulation directory\n",
    "\n",
    "L: the angular momentum vector calculated using the method found in edgefinder\n",
    "\n",
    "Lx: a vector that is orthogonal to the angular momentum vector calculated using the edgefinder method\n",
    "\n",
    "Once you have selected a simulation, this creates a list of all of the snapshots (DD????) for this particular simulation."
   ]
  },
  {
   "cell_type": "code",
   "execution_count": 2,
   "metadata": {},
   "outputs": [
    {
     "name": "stderr",
     "output_type": "stream",
     "text": [
      "yt : [INFO     ] 2017-08-17 11:32:08,955 Parameters: current_time              = 306.816562811\n",
      "yt : [INFO     ] 2017-08-17 11:32:08,956 Parameters: domain_dimensions         = [256 256 256]\n",
      "yt : [INFO     ] 2017-08-17 11:32:08,957 Parameters: domain_left_edge          = [ 0.  0.  0.]\n",
      "yt : [INFO     ] 2017-08-17 11:32:08,958 Parameters: domain_right_edge         = [ 1.  1.  1.]\n",
      "yt : [INFO     ] 2017-08-17 11:32:08,959 Parameters: cosmological_simulation   = 1\n",
      "yt : [INFO     ] 2017-08-17 11:32:08,960 Parameters: current_redshift          = 0.84711265424\n",
      "yt : [INFO     ] 2017-08-17 11:32:08,960 Parameters: omega_lambda              = 0.715\n",
      "yt : [INFO     ] 2017-08-17 11:32:08,961 Parameters: omega_matter              = 0.285\n",
      "yt : [INFO     ] 2017-08-17 11:32:08,962 Parameters: hubble_constant           = 0.695\n",
      "Parsing Hierarchy : 100%|██████████| 2424/2424 [00:00<00:00, 37654.83it/s]\n",
      "yt : [INFO     ] 2017-08-17 11:32:09,154 Gathering a field list (this may take a moment.)\n"
     ]
    }
   ],
   "source": [
    "# This is the base path to the directory containing the simulation snapshots\n",
    "base = '/astro/simulations/FOGGIE/halo_008508/'\n",
    "\n",
    "# 100% Feedback\n",
    "#mid = 'nref10_track_2'\n",
    "#L = [-0.37645994,  0.50723191,  0.77523784]\n",
    "#Lx = [ 0.,          0.83679869, -0.54751068]\n",
    "\n",
    "# 30% Feedback\n",
    "mid = 'nref10_track_lowfdbk_1'\n",
    "L = [-0.56197719,  0.56376017,  0.60527358]\n",
    "Lx = [ 0.,          0.73175552, -0.6815672 ]\n",
    "\n",
    "# 10% Feedback\n",
    "#mid = 'nref10_track_lowfdbk_2'\n",
    "#L = [-0.48868346,  0.6016812,   0.63179761]\n",
    "#Lx = [ 0., 0.72415556, -0.68963666]\n",
    "\n",
    "# 3% Feedback\n",
    "#mid = 'nref10_track_lowfdbk_3'\n",
    "#L = [-0.28229104, 0.68215233, 0.67452203]\n",
    "#Lx = [ 0., 0.7031187, -0.71107249]\n",
    "\n",
    "# 1% Feedback\n",
    "#mid = 'nref10_track_lowfdbk_4'\n",
    "#L = [-0.37819875, 0.57817821, 0.72296312]\n",
    "#Lx = [ 0., 0.78097012, -0.62456839]\n",
    "\n",
    "full_dir = base+mid+'/DD????/DD????'\n",
    "all_dir = glob(full_dir)     # a list of each simulation snapshot found in the main simulation directory\n",
    "\n",
    "# Select one snapshot for a test case, load that dataset, and derive the center of the galaxy\n",
    "file_name = all_dir[50]\n",
    "ds,center = galaxy_center(file_name)"
   ]
  },
  {
   "cell_type": "code",
   "execution_count": 3,
   "metadata": {
    "collapsed": true
   },
   "outputs": [],
   "source": [
    "# Define a sphere in which the velocity of the enitre galaxy can be calculated\n",
    "sp = ds.sphere(center,(12,'kpc'))\n",
    "# Calculates the bulk velocity of the galaxy\n",
    "bulk_v = sp.quantities.bulk_velocity().in_units('km/s')\n",
    "gx = bulk_v[0]\n",
    "gy = bulk_v[1]\n",
    "gz = bulk_v[2]"
   ]
  },
  {
   "cell_type": "markdown",
   "metadata": {},
   "source": [
    "# Define the velocity flux"
   ]
  },
  {
   "cell_type": "code",
   "execution_count": 4,
   "metadata": {
    "collapsed": true
   },
   "outputs": [],
   "source": [
    "def _vflux(field,data):\n",
    "    # Define x, y, and z coordinates\n",
    "    x = data['x-velocity'].in_units('km/s')\n",
    "    y = data['y-velocity'].in_units('km/s')\n",
    "    z = data['z-velocity'].in_units('km/s')\n",
    "    # Take dot product of bulk velocity and angular momentum vector\n",
    "    bx = np.multiply(bulk_v[0],L[0])\n",
    "    by = np.multiply(bulk_v[1],L[1])\n",
    "    bz = np.multiply(bulk_v[2],L[2])\n",
    "    leng = bx+by+bz\n",
    "    # Take dot product of new velocity and angular momentum vector\n",
    "    nx = x-leng\n",
    "    ny = y-leng\n",
    "    nz = z-leng\n",
    "    Lxx = np.multiply(nx,L[0])\n",
    "    Ly = np.multiply(ny,L[1])\n",
    "    Lz = np.multiply(nz,L[2])\n",
    "    return Lxx+Ly+Lz\n",
    "ds.add_field('cyl_flux',function=_vflux,units='km/s',display_name='Velocity Flux')\n",
    "ds.add_field('velocity_flux',function=_vflux,units='km/s',display_name='Velocity Flux')\n",
    "\n",
    "def _rflux(field,data):\n",
    "    x = data['x-velocity'].in_units('km/s')\n",
    "    y = data['y-velocity'].in_units('km/s')\n",
    "    z = data['z-velocity'].in_units('km/s')\n",
    "    # Take dot product of bulk velocity and Lr vector\n",
    "    Lr = np.cross(L,Lx)\n",
    "    bx = np.multiply(bulk_v[0],Lr[0])\n",
    "    by = np.multiply(bulk_v[1],Lr[1])\n",
    "    bz = np.multiply(bulk_v[2],Lr[2])\n",
    "    leng = bx+by+bz\n",
    "    \n",
    "    nx = x-leng\n",
    "    ny = y-leng\n",
    "    nz = z-leng\n",
    "    Lxx = np.multiply(nx,Lr[0])\n",
    "    Ly = np.multiply(ny,Lr[1])\n",
    "    Lz = np.multiply(nz,Lr[2])\n",
    "    return Lxx+Ly+Lz\n",
    "ds.add_field('r_flux',function=_rflux,units='km/s')"
   ]
  },
  {
   "cell_type": "code",
   "execution_count": 5,
   "metadata": {
    "collapsed": true
   },
   "outputs": [
    {
     "ename": "NameError",
     "evalue": "name 'bsp' is not defined",
     "output_type": "error",
     "traceback": [
      "\u001b[0;31m---------------------------------------------------------------------------\u001b[0m",
      "\u001b[0;31mNameError\u001b[0m                                 Traceback (most recent call last)",
      "\u001b[0;32m<ipython-input-5-ee6f605f9f94>\u001b[0m in \u001b[0;36m<module>\u001b[0;34m()\u001b[0m\n\u001b[0;32m----> 1\u001b[0;31m \u001b[0moap\u001b[0m\u001b[0;34m=\u001b[0m\u001b[0myt\u001b[0m\u001b[0;34m.\u001b[0m\u001b[0mSlicePlot\u001b[0m\u001b[0;34m(\u001b[0m\u001b[0mds\u001b[0m\u001b[0;34m,\u001b[0m\u001b[0mLx\u001b[0m\u001b[0;34m,\u001b[0m\u001b[0;34m'metallicity'\u001b[0m\u001b[0;34m,\u001b[0m\u001b[0mcenter\u001b[0m\u001b[0;34m=\u001b[0m\u001b[0mcenter\u001b[0m\u001b[0;34m,\u001b[0m\u001b[0mwidth\u001b[0m\u001b[0;34m=\u001b[0m\u001b[0;34m(\u001b[0m\u001b[0;36m70\u001b[0m\u001b[0;34m,\u001b[0m\u001b[0;34m'kpc'\u001b[0m\u001b[0;34m)\u001b[0m\u001b[0;34m,\u001b[0m\u001b[0mnorth_vector\u001b[0m\u001b[0;34m=\u001b[0m\u001b[0mL\u001b[0m\u001b[0;34m,\u001b[0m\u001b[0mdata_source\u001b[0m\u001b[0;34m=\u001b[0m\u001b[0mbsp\u001b[0m\u001b[0;34m)\u001b[0m\u001b[0;34m\u001b[0m\u001b[0m\n\u001b[0m\u001b[1;32m      2\u001b[0m \u001b[0moap\u001b[0m\u001b[0;34m.\u001b[0m\u001b[0mannotate_quiver\u001b[0m\u001b[0;34m(\u001b[0m\u001b[0;34m'r_flux'\u001b[0m\u001b[0;34m,\u001b[0m\u001b[0;34m'velocity_flux'\u001b[0m\u001b[0;34m,\u001b[0m\u001b[0;36m16\u001b[0m\u001b[0;34m)\u001b[0m\u001b[0;34m\u001b[0m\u001b[0m\n\u001b[1;32m      3\u001b[0m \u001b[0moap\u001b[0m\u001b[0;34m.\u001b[0m\u001b[0mshow\u001b[0m\u001b[0;34m(\u001b[0m\u001b[0;34m)\u001b[0m\u001b[0;34m\u001b[0m\u001b[0m\n",
      "\u001b[0;31mNameError\u001b[0m: name 'bsp' is not defined"
     ]
    }
   ],
   "source": [
    "oap=yt.SlicePlot(ds,Lx,'metallicity',center=center,width=(70,'kpc'),north_vector=L,data_source=bsp)\n",
    "oap.annotate_quiver('r_flux','velocity_flux',16)\n",
    "oap.show()"
   ]
  },
  {
   "cell_type": "markdown",
   "metadata": {},
   "source": [
    "# Volume-Weighted Velocity Flux"
   ]
  },
  {
   "cell_type": "markdown",
   "metadata": {},
   "source": [
    "Our first calculation of the velocity flux will be weighted by volume. These calculations are performed by calculating the velocity component traveling parallel to the galaxy's angular momentum vector for all of the material that falls within a defined data cylinder. Calculations are performed over a range of specified heights within subvolumes of the main data cylinder (eg, a small cylinder that extends from 30 kpc above the disk to 32 kpc above the disk).\n",
    "\n",
    "This can tell us how the velocity of the material changes as it extends farther and farther above the disk."
   ]
  },
  {
   "cell_type": "code",
   "execution_count": 6,
   "metadata": {
    "collapsed": true
   },
   "outputs": [],
   "source": [
    "# Define a data cylinder in which we will perform calculations\n",
    "cyl = ds.disk(center,L,(12.,'kpc'),(200.,'kpc'))\n",
    "\n",
    "# Create a dictionary containing velocity flux calculations\n",
    "results = calculate_vflux_profile(cyl,-100,100,2)"
   ]
  },
  {
   "cell_type": "markdown",
   "metadata": {},
   "source": [
    "Here, we show a plot of the median and mean velocity flux profiles, as well as the 25th and 75th percentiles. This is analyzing all material above and below the disk of the galaxy.\n",
    "\n",
    "It is important to note that, because of the way these calculations are being performed, the sign of the velocity should be switched for material that lies above the disk and material that lies below the disk. To make it easier:\n",
    "\n",
    "Inflows: v < 0 above the disk, v > 0 below the disk\n",
    "\n",
    "Outflows: v > 0 above the disk, v < 0 below the disk"
   ]
  },
  {
   "cell_type": "code",
   "execution_count": 13,
   "metadata": {},
   "outputs": [
    {
     "data": {
      "image/png": "[encoded data removed]",
      "text/plain": [
       "<matplotlib.figure.Figure at 0x119213a90>"
      ]
     },
     "metadata": {},
     "output_type": "display_data"
    }
   ],
   "source": [
    "# Save the results from out dictionary as individual variables\n",
    "nhl = results['height']\n",
    "highperlist= results['highperlist']\n",
    "lowperlist = results['lowperlist']\n",
    "mean_flux_profile = results['mean_flux_profile']\n",
    "median_flux_profile = results['median_flux_profile']\n",
    "\n",
    "fig,axs=plt.subplots()\n",
    "\n",
    "# Plots the 25th and 75th percentiles\n",
    "axs.fill_between(nhl,highperlist,lowperlist,facecolor='r',alpha=.35)\n",
    "# Plots mean velocity profile\n",
    "axs.plot(nhl,mean_flux_profile,color='firebrick')\n",
    "# Plots median velocity profile\n",
    "axs.plot(nhl,median_flux_profile)\n",
    "\n",
    "# Plots lines to make clear the difference between inflows and outflows\n",
    "#     (positive or negative velocity), as well as above and below the\n",
    "#     disk (positive (above) or negative (below) distance)\n",
    "axs.plot([0,0],[-1000,1000],color='black',linewidth=.5,alpha=.6)\n",
    "axs.plot([-1000,1000],[0,0],color='black',linewidth=.5,alpha=.6)\n",
    "axs.set_xlim(-105,105)\n",
    "axs.set_ylim(-160,200)\n",
    "\n",
    "axs.set_xlabel('Distance from Galactic Plane (kpc)')\n",
    "axs.set_ylabel('Mean Velocity Flux (km/s)')\n",
    "axs.set_title(file_name[-6:]+': 30% Feedback')\n",
    "plt.show()"
   ]
  },
  {
   "cell_type": "markdown",
   "metadata": {
    "collapsed": true
   },
   "source": [
    "# Weighted Velocity by Mass"
   ]
  },
  {
   "cell_type": "markdown",
   "metadata": {},
   "source": [
    "In addition to the volume-weighted profile, there is also the option to calculate the mass-weighted velocity flux profile. This can be specified by setting the 'weight' argument to True. This adds an element to the output result that can be called by the keyword 'weighted_profile'."
   ]
  },
  {
   "cell_type": "code",
   "execution_count": 16,
   "metadata": {
    "collapsed": true
   },
   "outputs": [],
   "source": [
    "# Define a data cylinder in which we will perform calculations\n",
    "cyl = ds.disk(center,L,(12.,'kpc'),(200.,'kpc'))\n",
    "\n",
    "# Create a dictionary containing velocity flux calculations\n",
    "results1 = calculate_vflux_profile(cyl,-100,100,2,weight = True)"
   ]
  },
  {
   "cell_type": "markdown",
   "metadata": {},
   "source": [
    "The mass-weighted velocity flux is plotted below in blue, alongside the mean velocity flux profiles."
   ]
  },
  {
   "cell_type": "code",
   "execution_count": 17,
   "metadata": {},
   "outputs": [
    {
     "data": {
      "image/png": "[encoded data removed]",
      "text/plain": [
       "<matplotlib.figure.Figure at 0x11856c090>"
      ]
     },
     "metadata": {},
     "output_type": "display_data"
    }
   ],
   "source": [
    "# Save the results from out dictionary as individual variables\n",
    "nhl = results1['height']\n",
    "highperlist= results1['highperlist']\n",
    "lowperlist = results1['lowperlist']\n",
    "mean_flux_profile = results1['mean_flux_profile']\n",
    "weighted_profile = results1['weighted_profile']\n",
    "\n",
    "fig,axs=plt.subplots()\n",
    "\n",
    "# Plots the 25th and 75th percentiles\n",
    "axs.fill_between(nhl,highperlist,lowperlist,facecolor='r',alpha=.35)\n",
    "# Plots mean velocity profile\n",
    "axs.plot(nhl,mean_flux_profile,color='firebrick')\n",
    "# Plots mass weighted profile\n",
    "axs.plot(nhl,weighted_profile)\n",
    "\n",
    "# Plots lines to make clear the difference between inflows and outflows\n",
    "#     (positive or negative velocity), as well as above and below the\n",
    "#     disk (positive (above) or negative (below) distance)\n",
    "axs.plot([0,0],[-1000,1000],color='black',linewidth=.5,alpha=.6)\n",
    "axs.plot([-1000,1000],[0,0],color='black',linewidth=.5,alpha=.6)\n",
    "axs.set_xlim(-105,105)\n",
    "axs.set_ylim(-160,200)\n",
    "\n",
    "axs.set_xlabel('Distance from Galactic Plane (kpc)')\n",
    "axs.set_ylabel('Mean Velocity Flux (km/s)')\n",
    "axs.set_title(file_name[-6:]+': 30% Feedback')\n",
    "plt.show()"
   ]
  },
  {
   "cell_type": "markdown",
   "metadata": {},
   "source": [
    "# Differentiating Between Outflows and Inflows"
   ]
  },
  {
   "cell_type": "markdown",
   "metadata": {},
   "source": [
    "We are also able to differentiate between inflows and outflows by using the 'flow' argument, which has they keywords 'in', 'out', and 'all' (which is the default). It separates the inflows from the outflows by looking at the sign of the material's velocity flux at each point.\n",
    "\n",
    "As before, it is important to remember whether you are looking above or below the disk. These keywords only apply to material above the disk, but if it is below the disk, the keywords must be reversed. For example, if you wanted to look for outflows below the disk, you would have to set the 'flow' argument to 'in', instead of out.\n",
    "\n",
    "Also, the 25th and 75th percentiles are not calculated when differentiating between outflows and inflows."
   ]
  },
  {
   "cell_type": "code",
   "execution_count": null,
   "metadata": {
    "collapsed": true,
    "scrolled": true
   },
   "outputs": [],
   "source": [
    "# Define a data cylinder in which we will perform calculations\n",
    "cyl = ds.disk(center,L,(12.,'kpc'),(200.,'kpc'))\n",
    "\n",
    "# Creates a dictionary containing the volume- and mass-weighted\n",
    "#     velocity flux profiles for outflowing material\n",
    "results2 = calculate_vflux_profile(cyl,0,100,2,weight=True,flow='out')"
   ]
  },
  {
   "cell_type": "markdown",
   "metadata": {},
   "source": [
    "The volume- and mass-weighted profiles are plotted below."
   ]
  },
  {
   "cell_type": "code",
   "execution_count": null,
   "metadata": {
    "collapsed": true
   },
   "outputs": [],
   "source": [
    "fig,axs=plt.subplots()\n",
    "\n",
    "# Save the results from out dictionary as individual variables\n",
    "nhl = results['height']\n",
    "mean_flux_profile = results['mean_flux_profile']\n",
    "wflux_profile = results['weighted_profile']\n",
    "\n",
    "# Plots mean velocity profile\n",
    "axs.plot(nhl,mean_flux_profile,color='firebrick')\n",
    "# Plots mass weighted profile\n",
    "axs.plot(nhl,wflux_profile)\n",
    "\n",
    "# Plots lines to make clear the difference between inflows and outflows\n",
    "#     (positive or negative velocity), as well as above and below the\n",
    "#     disk (positive (above) or negative (below) distance)\n",
    "axs.plot([0,0],[-1000,1000],color='black',linewidth=.5,alpha=.6)\n",
    "axs.plot([-1000,1000],[0,0],color='black',linewidth=.5,alpha=.6)\n",
    "axs.set_xlim(0,105)\n",
    "axs.set_ylim(0,300)\n",
    "\n",
    "axs.set_xlabel('Distance from Galactic Plane (kpc)')\n",
    "axs.set_ylabel('Mean Velocity Flux (km/s)')\n",
    "axs.set_title(file_name[-6:]+': 30% Feedback')\n",
    "plt.show()"
   ]
  },
  {
   "cell_type": "code",
   "execution_count": null,
   "metadata": {
    "collapsed": true
   },
   "outputs": [],
   "source": []
  }
 ],
 "metadata": {
  "kernelspec": {
   "display_name": "Python 2",
   "language": "python",
   "name": "python2"
  },
  "language_info": {
   "codemirror_mode": {
    "name": "ipython",
    "version": 2
   },
   "file_extension": ".py",
   "mimetype": "text/x-python",
   "name": "python",
   "nbconvert_exporter": "python",
   "pygments_lexer": "ipython2",
   "version": "2.7.13"
  }
 },
 "nbformat": 4,
 "nbformat_minor": 2
}
